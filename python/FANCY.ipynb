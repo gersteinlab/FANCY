{
 "cells": [
  {
   "cell_type": "code",
   "execution_count": 1,
   "metadata": {},
   "outputs": [
    {
     "name": "stdout",
     "output_type": "stream",
     "text": [
      "Populating the interactive namespace from numpy and matplotlib\n"
     ]
    }
   ],
   "source": [
    "%pylab inline\n",
    "import numpy as np\n",
    "import os\n",
    "\n",
    "#preparing inputs\n",
    "gue=open('bias_depth_cov_tier_snv.txt','r')\n",
    "bgvex=open('braingvex.txt','r')\n",
    "acet=open('acet.txt','r')\n",
    "atac=open('humanfc.txt','r')\n",
    "\n",
    "stad=[]\n",
    "skew=[]\n",
    "kurt=[]\n",
    "depth=[]\n",
    "cova=[]\n",
    "overlap=[]\n",
    "type1=[]\n",
    "type2=[]\n",
    "type3=[]\n",
    "snv=[]\n",
    "\n",
    "\n",
    "for line in gue:\n",
    "    A=line.split('\\t')\n",
    "    A1=A[0].split(' ')\n",
    "    A2=A[1].split(' ')\n",
    "    A3=A2[3].split('\\n')\n",
    "    stad.append(float(A1[0]))\n",
    "    skew.append(float(A1[1]))\n",
    "    kurt.append(float(A1[2]))\n",
    "    depth.append(float(A2[0]))\n",
    "    cova.append(float(A2[1]))\n",
    "    overlap.append(int(A3[0]))\n",
    "    snv.append(int(A3[0]))\n",
    "    type1.append(0)\n",
    "    type2.append(0)\n",
    "    type3.append(1)\n",
    "    \n",
    "for line in bgvex:\n",
    "    A=line.split('\\t')\n",
    "    A1=A[0].split(' ')\n",
    "    A2=A[1].split(' ')\n",
    "    A3=A2[3].split('\\n')\n",
    "    stad.append(float(A1[0]))\n",
    "    skew.append(float(A1[1]))\n",
    "    kurt.append(float(A1[2]))\n",
    "    depth.append(float(A2[0]))\n",
    "    cova.append(float(A2[1]))\n",
    "    overlap.append(int(A3[0]))\n",
    "    snv.append(int(A3[0]))\n",
    "    type1.append(0)\n",
    "    type2.append(1)\n",
    "    type3.append(0)    \n",
    "    \n",
    "for line in acet:\n",
    "    A=line.split('\\t')\n",
    "    A1=A[0].split(' ')\n",
    "    A2=A[1].split(' ')\n",
    "    A3=A2[3].split('\\n')\n",
    "    stad.append(float(A1[0]))\n",
    "    skew.append(float(A1[1]))\n",
    "    kurt.append(float(A1[2]))\n",
    "    depth.append(float(A2[0]))\n",
    "    cova.append(float(A2[1]))\n",
    "    overlap.append(int(A3[0]))\n",
    "    snv.append(int(A3[0]))\n",
    "    type1.append(0)\n",
    "    type2.append(0)\n",
    "    type3.append(1)\n",
    "    \n",
    "for line in atac:\n",
    "    A=line.split('\\t')\n",
    "    A1=A[0].split(' ')\n",
    "    A2=A[1].split(' ')\n",
    "    A3=A2[3].split('\\n')\n",
    "    stad.append(float(A1[0]))\n",
    "    skew.append(float(A1[1]))\n",
    "    kurt.append(float(A1[2]))\n",
    "    depth.append(float(A2[0]))\n",
    "    cova.append(float(A2[1]))\n",
    "    overlap.append(int(A3[0]))\n",
    "    snv.append(int(A3[0]))\n",
    "    type1.append(0)\n",
    "    type2.append(1)\n",
    "    type3.append(0)\n",
    "\n",
    "\n"
   ]
  },
  {
   "cell_type": "code",
   "execution_count": 19,
   "metadata": {},
   "outputs": [
    {
     "data": {
      "text/plain": [
       "(12576, 8)"
      ]
     },
     "execution_count": 19,
     "metadata": {},
     "output_type": "execute_result"
    }
   ],
   "source": [
    "#prepare trainign and test dataset\n",
    "#use the first 500 entries as toy example\n",
    "import pandas as pd\n",
    "from sklearn import datasets, linear_model\n",
    "from sklearn.model_selection import train_test_split\n",
    "from matplotlib import pyplot as plt\n",
    "df = pd.DataFrame()\n",
    "df['stad']=stad[0:500]\n",
    "df['skew']=skew[0:500]\n",
    "df['kurt']=kurt[0:500]\n",
    "df['depth']=depth[0:500]\n",
    "df['cova']=cova[0:500]\n",
    "df['t1']=type1[0:500]\n",
    "df['t2']=type2[0:500]\n",
    "df['t3']=type3[0:500]\n",
    "y = snv[0:500] # d                                                                                                                                                                                                                                                                                                                                                                                                                                                                                                                                                                                                                               efine the target variable (dependent variable) as y\n",
    "# create training and testing vars\n",
    "X_train, X_test, y_train, y_test = train_test_split(df, y, test_size=0.5)\n",
    "#subsample\n",
    "X_train = np.array(X_train)\n",
    "X_test = np.array(X_test)\n",
    "y_train = np.array(y_train)\n",
    "y_test = np.array(y_test)\n",
    "shape(X_train)"
   ]
  },
  {
   "cell_type": "code",
   "execution_count": 20,
   "metadata": {},
   "outputs": [
    {
     "name": "stderr",
     "output_type": "stream",
     "text": [
      "Number of line searches 2\n"
     ]
    },
    {
     "data": {
      "text/plain": [
       "0.9813206784825386"
      ]
     },
     "execution_count": 20,
     "metadata": {},
     "output_type": "execute_result"
    },
    {
     "data": {
      "image/png": "[encoded data removed]",
      "text/plain": [
       "<Figure size 432x288 with 1 Axes>"
      ]
     },
     "metadata": {
      "needs_background": "light"
     },
     "output_type": "display_data"
    }
   ],
   "source": [
    "import pyGPs\n",
    "\n",
    "model = pyGPs.GPR() \n",
    "model.setNoise( log_sigma = 3.61609724518 )\n",
    "#m = pyGPs.mean.Linear( alpha_list=[0.00003,0.00003,0.00003,0.00003,0.00003,0.00003,0.00003,0.00003] )\n",
    "k = pyGPs.Core.cov.Matern(log_ell=[8.53571426347188,7.86273364470724,15.7314831784801,3.34023839973156,19.9733814918404,-1.75129842978112,-2.35921702690416,-1.40045612390735], d=3, log_sigma=12.6732)\n",
    "model.setPrior(kernel=k)\n",
    "model.getPosterior(X_train, y_train)\n",
    "#model.setOptimizer(\"Minimize\", num_restarts=10)\n",
    "model.optimize()\n",
    "ym, ys2, fm, fs2, lp = model.predict(X_test) \n",
    "shape(ym)\n",
    "# predict test cases\n",
    "plt.figure()\n",
    "plt.plot(y_test, ym, 'r.', markersize=10, label='Observations')\n",
    "from sklearn.metrics import r2_score\n",
    "r2_score(y_test, ym)"
   ]
  },
  {
   "cell_type": "code",
   "execution_count": null,
   "metadata": {},
   "outputs": [],
   "source": []
  }
 ],
 "metadata": {
  "kernelspec": {
   "display_name": "Python 3",
   "language": "python",
   "name": "python3"
  },
  "language_info": {
   "codemirror_mode": {
    "name": "ipython",
    "version": 3
   },
   "file_extension": ".py",
   "mimetype": "text/x-python",
   "name": "python",
   "nbconvert_exporter": "python",
   "pygments_lexer": "ipython3",
   "version": "3.7.3"
  }
 },
 "nbformat": 4,
 "nbformat_minor": 2
}
